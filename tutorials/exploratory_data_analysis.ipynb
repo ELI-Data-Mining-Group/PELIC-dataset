{
 "cells": [
  {
   "cell_type": "markdown",
   "metadata": {},
   "source": [
    "# Exploratory Data Analysis (EDA)\n",
    "\n",
    "<br>\n",
    "\n",
    "**Author:** Ben Naismith (bnaismith@pitt.edu)  \n",
    "**Date:** 11 June 2020\n",
    "\n",
    "<br>\n",
    "\n",
    "This tutorial provides a standard first step (EDA) in any data exploration and corpus analysis. It presents and demonstrates basic statistics of PELIC's composition, including the figures and statistics presented in the [`README.md`](https://github.com/ELI-Data-Mining-Group/PELIC-dataset/blob/master/README.md).\n",
    "\n",
    "For further details about PELIC's frequency statistics, see the `corpus_stats` [folder](https://github.com/ELI-Data-Mining-Group/PELIC-dataset/tree/master/corpus_stats) and [notebook](http://localhost:8891/notebooks/PELIC-dataset/corpus_stats/frequency_stats.ipynb).\n",
    "\n",
    "<br>\n",
    "\n",
    "**Notebook contents:**\n",
    "- [Initial setup](#Initial-setup)\n",
    "- [Students](#Students)\n",
    "- [Languages](#Languages)\n",
    "- [Gender](#Gender)\n",
    "- [Classes and semesters](#Classes-and-semesters)\n",
    "- [Texts](#Texts)\n",
    "- [Summary](#Summary)"
   ]
  },
  {
   "cell_type": "markdown",
   "metadata": {},
   "source": [
    "## Initial setup\n",
    "Importing necessary Python modules and `PELIC_compiled.csv` for analysis"
   ]
  },
  {
   "cell_type": "code",
   "execution_count": 1,
   "metadata": {},
   "outputs": [],
   "source": [
    "# Importing necessary modules\n",
    "\n",
    "import pandas as pd\n",
    "import csv\n",
    "from ast import literal_eval\n",
    "import nltk\n",
    "import matplotlib.pyplot as plt"
   ]
  },
  {
   "cell_type": "code",
   "execution_count": 2,
   "metadata": {},
   "outputs": [
    {
     "name": "stdout",
     "output_type": "stream",
     "text": [
      "<class 'pandas.core.frame.DataFrame'>\n",
      "Int64Index: 46230 entries, 1 to 48420\n",
      "Data columns (total 12 columns):\n",
      " #   Column       Non-Null Count  Dtype \n",
      "---  ------       --------------  ----- \n",
      " 0   anon_id      46230 non-null  object\n",
      " 1   L1           46230 non-null  object\n",
      " 2   gender       46230 non-null  object\n",
      " 3   course_id    46230 non-null  object\n",
      " 4   level_id     46230 non-null  object\n",
      " 5   class_id     46230 non-null  object\n",
      " 6   question_id  46230 non-null  object\n",
      " 7   version      46230 non-null  object\n",
      " 8   text_len     46230 non-null  int64 \n",
      " 9   text         46230 non-null  object\n",
      " 10  tokens       46230 non-null  object\n",
      " 11  tok_lem_POS  46230 non-null  object\n",
      "dtypes: int64(1), object(11)\n",
      "memory usage: 4.6+ MB\n"
     ]
    },
    {
     "data": {
      "text/html": [
       "<div>\n",
       "<style scoped>\n",
       "    .dataframe tbody tr th:only-of-type {\n",
       "        vertical-align: middle;\n",
       "    }\n",
       "\n",
       "    .dataframe tbody tr th {\n",
       "        vertical-align: top;\n",
       "    }\n",
       "\n",
       "    .dataframe thead th {\n",
       "        text-align: right;\n",
       "    }\n",
       "</style>\n",
       "<table border=\"1\" class=\"dataframe\">\n",
       "  <thead>\n",
       "    <tr style=\"text-align: right;\">\n",
       "      <th></th>\n",
       "      <th>anon_id</th>\n",
       "      <th>L1</th>\n",
       "      <th>gender</th>\n",
       "      <th>course_id</th>\n",
       "      <th>level_id</th>\n",
       "      <th>class_id</th>\n",
       "      <th>question_id</th>\n",
       "      <th>version</th>\n",
       "      <th>text_len</th>\n",
       "      <th>text</th>\n",
       "      <th>tokens</th>\n",
       "      <th>tok_lem_POS</th>\n",
       "    </tr>\n",
       "    <tr>\n",
       "      <th>answer_id</th>\n",
       "      <th></th>\n",
       "      <th></th>\n",
       "      <th></th>\n",
       "      <th></th>\n",
       "      <th></th>\n",
       "      <th></th>\n",
       "      <th></th>\n",
       "      <th></th>\n",
       "      <th></th>\n",
       "      <th></th>\n",
       "      <th></th>\n",
       "      <th></th>\n",
       "    </tr>\n",
       "  </thead>\n",
       "  <tbody>\n",
       "    <tr>\n",
       "      <th>1</th>\n",
       "      <td>eq0</td>\n",
       "      <td>Arabic</td>\n",
       "      <td>Male</td>\n",
       "      <td>149</td>\n",
       "      <td>4</td>\n",
       "      <td>g</td>\n",
       "      <td>5</td>\n",
       "      <td>1</td>\n",
       "      <td>177</td>\n",
       "      <td>I met my friend Nife while I was studying in a...</td>\n",
       "      <td>[I, met, my, friend, Nife, while, I, was, stud...</td>\n",
       "      <td>((I, i, PRP), (met, meet, VBD), (my, my, PRP$)...</td>\n",
       "    </tr>\n",
       "    <tr>\n",
       "      <th>2</th>\n",
       "      <td>am8</td>\n",
       "      <td>Thai</td>\n",
       "      <td>Female</td>\n",
       "      <td>149</td>\n",
       "      <td>4</td>\n",
       "      <td>g</td>\n",
       "      <td>5</td>\n",
       "      <td>1</td>\n",
       "      <td>137</td>\n",
       "      <td>Ten years ago, I met a women on the train betw...</td>\n",
       "      <td>[Ten, years, ago, ,, I, met, a, women, on, the...</td>\n",
       "      <td>((Ten, ten, CD), (years, year, NNS), (ago, ago...</td>\n",
       "    </tr>\n",
       "    <tr>\n",
       "      <th>3</th>\n",
       "      <td>dk5</td>\n",
       "      <td>Turkish</td>\n",
       "      <td>Female</td>\n",
       "      <td>115</td>\n",
       "      <td>4</td>\n",
       "      <td>w</td>\n",
       "      <td>12</td>\n",
       "      <td>1</td>\n",
       "      <td>64</td>\n",
       "      <td>In my country we usually don't use tea bags. F...</td>\n",
       "      <td>[In, my, country, we, usually, do, n't, use, t...</td>\n",
       "      <td>((In, in, IN), (my, my, PRP$), (country, count...</td>\n",
       "    </tr>\n",
       "    <tr>\n",
       "      <th>4</th>\n",
       "      <td>dk5</td>\n",
       "      <td>Turkish</td>\n",
       "      <td>Female</td>\n",
       "      <td>115</td>\n",
       "      <td>4</td>\n",
       "      <td>w</td>\n",
       "      <td>13</td>\n",
       "      <td>1</td>\n",
       "      <td>6</td>\n",
       "      <td>I organized the instructions by time.</td>\n",
       "      <td>[I, organized, the, instructions, by, time, .]</td>\n",
       "      <td>((I, i, PRP), (organized, organize, VBD), (the...</td>\n",
       "    </tr>\n",
       "    <tr>\n",
       "      <th>5</th>\n",
       "      <td>ad1</td>\n",
       "      <td>Korean</td>\n",
       "      <td>Female</td>\n",
       "      <td>115</td>\n",
       "      <td>4</td>\n",
       "      <td>w</td>\n",
       "      <td>12</td>\n",
       "      <td>1</td>\n",
       "      <td>59</td>\n",
       "      <td>First, prepare a port, loose tea, and cup.\\nSe...</td>\n",
       "      <td>[First, ,, prepare, a, port, ,, loose, tea, ,,...</td>\n",
       "      <td>((First, first, RB), (,, ,, ,), (prepare, prep...</td>\n",
       "    </tr>\n",
       "  </tbody>\n",
       "</table>\n",
       "</div>"
      ],
      "text/plain": [
       "          anon_id       L1  gender course_id level_id class_id question_id  \\\n",
       "answer_id                                                                    \n",
       "1             eq0   Arabic    Male       149        4        g           5   \n",
       "2             am8     Thai  Female       149        4        g           5   \n",
       "3             dk5  Turkish  Female       115        4        w          12   \n",
       "4             dk5  Turkish  Female       115        4        w          13   \n",
       "5             ad1   Korean  Female       115        4        w          12   \n",
       "\n",
       "          version  text_len  \\\n",
       "answer_id                     \n",
       "1               1       177   \n",
       "2               1       137   \n",
       "3               1        64   \n",
       "4               1         6   \n",
       "5               1        59   \n",
       "\n",
       "                                                        text  \\\n",
       "answer_id                                                      \n",
       "1          I met my friend Nife while I was studying in a...   \n",
       "2          Ten years ago, I met a women on the train betw...   \n",
       "3          In my country we usually don't use tea bags. F...   \n",
       "4                      I organized the instructions by time.   \n",
       "5          First, prepare a port, loose tea, and cup.\\nSe...   \n",
       "\n",
       "                                                      tokens  \\\n",
       "answer_id                                                      \n",
       "1          [I, met, my, friend, Nife, while, I, was, stud...   \n",
       "2          [Ten, years, ago, ,, I, met, a, women, on, the...   \n",
       "3          [In, my, country, we, usually, do, n't, use, t...   \n",
       "4             [I, organized, the, instructions, by, time, .]   \n",
       "5          [First, ,, prepare, a, port, ,, loose, tea, ,,...   \n",
       "\n",
       "                                                 tok_lem_POS  \n",
       "answer_id                                                     \n",
       "1          ((I, i, PRP), (met, meet, VBD), (my, my, PRP$)...  \n",
       "2          ((Ten, ten, CD), (years, year, NNS), (ago, ago...  \n",
       "3          ((In, in, IN), (my, my, PRP$), (country, count...  \n",
       "4          ((I, i, PRP), (organized, organize, VBD), (the...  \n",
       "5          ((First, first, RB), (,, ,, ,), (prepare, prep...  "
      ]
     },
     "execution_count": 2,
     "metadata": {},
     "output_type": "execute_result"
    }
   ],
   "source": [
    "# Read in PELIC_compiled.csv\n",
    "\n",
    "pelic_df = pd.read_csv(\"../PELIC_compiled.csv\", index_col = 'answer_id', # answer_id is unique\n",
    "                      dtype = {'level_id':'object','question_id':'object','version':'object','course_id':'object'}, # str not ints\n",
    "                               converters={'tokens':literal_eval,'tok_lem_POS':literal_eval}) # read in as lists\n",
    "pelic_df.info()\n",
    "pelic_df.head()"
   ]
  },
  {
   "cell_type": "markdown",
   "metadata": {},
   "source": [
    "## Students\n",
    "- Total number of students\n",
    "- Students by level"
   ]
  },
  {
   "cell_type": "code",
   "execution_count": 3,
   "metadata": {},
   "outputs": [
    {
     "name": "stdout",
     "output_type": "stream",
     "text": [
      "Total number of students: 1177\n"
     ]
    }
   ],
   "source": [
    "print('Total number of students:',len(set(pelic_df.anon_id)))"
   ]
  },
  {
   "cell_type": "code",
   "execution_count": 4,
   "metadata": {},
   "outputs": [
    {
     "name": "stdout",
     "output_type": "stream",
     "text": [
      "Number of students by level:\n",
      "5    151\n",
      "4    524\n",
      "3    474\n",
      "2     28\n",
      "Name: level_id, dtype: int64\n"
     ]
    }
   ],
   "source": [
    "print('Number of students by level:',pelic_df.drop_duplicates('anon_id').level_id.value_counts().sort_index(ascending=False),sep='\\n')"
   ]
  },
  {
   "cell_type": "markdown",
   "metadata": {},
   "source": [
    "Here we see that the two most common levels are 4 (Upper-intermediate) and 3 (Intermediate), accounting for approximately 85% of the students. There are very few level 2 (Pre-Intermediate) students, as this class was not often held at the Pitt ELI. \n",
    "\n",
    "With respect to level 5 (Advanced), we shall see in the [Texts](#Texts) section that despite the smaller number of students, the output of texts is comparable to level 4. "
   ]
  },
  {
   "cell_type": "markdown",
   "metadata": {},
   "source": [
    "## Languages\n",
    "- Number of learner first languages (L1s)\n",
    "- Number of students by L1\n",
    "- Number of students by L1 and level"
   ]
  },
  {
   "cell_type": "code",
   "execution_count": 5,
   "metadata": {},
   "outputs": [
    {
     "name": "stdout",
     "output_type": "stream",
     "text": [
      "Unique student L1s: 30\n"
     ]
    }
   ],
   "source": [
    "print('Unique student L1s:',len(pelic_df.L1.unique()))"
   ]
  },
  {
   "cell_type": "code",
   "execution_count": 6,
   "metadata": {},
   "outputs": [
    {
     "name": "stdout",
     "output_type": "stream",
     "text": [
      "Complete list of student L1s:\n",
      "Arabic               813\n",
      "Korean               357\n",
      "Chinese              340\n",
      "Japanese             109\n",
      "Spanish               84\n",
      "Turkish               68\n",
      "Thai                  52\n",
      "Portuguese            25\n",
      "Taiwanese             20\n",
      "Other                 19\n",
      "French                16\n",
      "Italian               16\n",
      "Russian               16\n",
      "Hebrew                 8\n",
      "Farsi                  7\n",
      "Mongol                 6\n",
      "Vietnamese             5\n",
      "German                 4\n",
      "English                4\n",
      "Suundi                 3\n",
      "Indonesian             2\n",
      "Azerbaijani            2\n",
      "Montenegrin            2\n",
      "Polish                 2\n",
      "Zulu                   1\n",
      "Swedish                1\n",
      "Hindi                  1\n",
      "Russian,Ukrainian      1\n",
      "Swahili                1\n",
      "Romanian               1\n",
      "Name: L1, dtype: int64\n"
     ]
    }
   ],
   "source": [
    "print('Complete list of student L1s:',pelic_df.drop_duplicates(subset=['anon_id','level_id']).L1.value_counts(),sep='\\n')"
   ]
  },
  {
   "cell_type": "markdown",
   "metadata": {},
   "source": [
    "**Note**: The figures above count students multiple times if they produced texts in multiple levels. To eliminate these duplicates, delete 'level_id' from the subset in the line of code above."
   ]
  },
  {
   "cell_type": "markdown",
   "metadata": {},
   "source": [
    "From the 30 different L1s, there is a clear divide between the three most common L1s (Arabic, Chinese, Korean), the seven most common (Arabic, Chinese, Korean, Japanese, Spanish, Turkish, Thai) and the remaining 23. The following statistics will focus on these top seven which account for over 90% of all students."
   ]
  },
  {
   "cell_type": "code",
   "execution_count": 7,
   "metadata": {},
   "outputs": [],
   "source": [
    "target_lang = ['Arabic','Chinese','Korean','Japanese','Spanish','Thai','Turkish']  "
   ]
  },
  {
   "cell_type": "markdown",
   "metadata": {},
   "source": [
    "Below are additional filters which can be applied if desired:\n",
    "- languages to include\n",
    "- versions of texts to include\n",
    "- levels to include\n",
    "- minimum text length\n",
    "\n",
    "In this case, only the L1 filter is being applied."
   ]
  },
  {
   "cell_type": "code",
   "execution_count": 8,
   "metadata": {},
   "outputs": [],
   "source": [
    "filters = (pelic_df.L1.isin(target_lang)) \\\n",
    "          #& (pelic_df.version == 1) \\\n",
    "          #& (pelic_df.level_id != '2') \\\n",
    "          #& (pelic_df.text_len >= 10)"
   ]
  },
  {
   "cell_type": "code",
   "execution_count": 9,
   "metadata": {},
   "outputs": [
    {
     "name": "stdout",
     "output_type": "stream",
     "text": [
      "L1        level_id\n",
      "Arabic    2            15\n",
      "          3           244\n",
      "          4           342\n",
      "          5           212\n",
      "Chinese   2             4\n",
      "          3            86\n",
      "          4           154\n",
      "          5            96\n",
      "Japanese  3            21\n",
      "          4            53\n",
      "          5            35\n",
      "Korean    2             6\n",
      "          3            88\n",
      "          4           151\n",
      "          5           112\n",
      "Spanish   2             1\n",
      "          3            18\n",
      "          4            40\n",
      "          5            25\n",
      "Thai      3            10\n",
      "          4            25\n",
      "          5            17\n",
      "Turkish   3            24\n",
      "          4            32\n",
      "          5            12\n",
      "Name: anon_id, dtype: int64\n"
     ]
    }
   ],
   "source": [
    "# Number of students per L1 and level\n",
    "\n",
    "print(pelic_df[filters].groupby(['L1', 'level_id'])['anon_id'].nunique())"
   ]
  },
  {
   "cell_type": "markdown",
   "metadata": {},
   "source": [
    "## Gender\n",
    "- Students by gender\n",
    "- Texts by gender\n",
    "- Students and L1 by gender"
   ]
  },
  {
   "cell_type": "code",
   "execution_count": 10,
   "metadata": {},
   "outputs": [
    {
     "name": "stdout",
     "output_type": "stream",
     "text": [
      "Total students by gender:\n",
      "Male       623\n",
      "Female     500\n",
      "Unknown     54\n",
      "Name: gender, dtype: int64\n",
      "\n",
      "\n",
      "Total texts by gender:\n",
      "Male       25352\n",
      "Female     19488\n",
      "Unknown     1390\n",
      "Name: gender, dtype: int64\n"
     ]
    }
   ],
   "source": [
    "#Students and texts by gender\n",
    "\n",
    "print('Total students by gender:', pelic_df.drop_duplicates('anon_id').gender.value_counts(),sep='\\n')\n",
    "print('\\n\\nTotal texts by gender:', pelic_df.gender.value_counts(),sep='\\n')"
   ]
  },
  {
   "cell_type": "code",
   "execution_count": 11,
   "metadata": {},
   "outputs": [
    {
     "name": "stdout",
     "output_type": "stream",
     "text": [
      "L1        gender \n",
      "Arabic    Female      90\n",
      "          Male       337\n",
      "          Unknown     12\n",
      "Chinese   Female     108\n",
      "          Male        77\n",
      "          Unknown     35\n",
      "Japanese  Female      45\n",
      "          Male        22\n",
      "Korean    Female     119\n",
      "          Male        92\n",
      "          Unknown      3\n",
      "Spanish   Female      37\n",
      "          Male        19\n",
      "          Unknown      1\n",
      "Thai      Female      17\n",
      "          Male        14\n",
      "Turkish   Female      21\n",
      "          Male        19\n",
      "Name: anon_id, dtype: int64\n"
     ]
    }
   ],
   "source": [
    "# Number of students per L1 and gender\n",
    "\n",
    "print(pelic_df[filters].groupby(['L1', 'gender'])['anon_id'].nunique())"
   ]
  },
  {
   "cell_type": "markdown",
   "metadata": {},
   "source": [
    "## Classes and semesters\n",
    "- Number of courses for each class type\n",
    "- Number of texts produced in each class type\n",
    "- Number of semesters attended by each student\n",
    "- Average number of semesters attended"
   ]
  },
  {
   "cell_type": "code",
   "execution_count": 12,
   "metadata": {},
   "outputs": [
    {
     "data": {
      "text/plain": [
       "w    137\n",
       "g    127\n",
       "r    105\n",
       "l     17\n",
       "s      2\n",
       "Name: class_id, dtype: int64"
      ]
     },
     "execution_count": 12,
     "metadata": {},
     "output_type": "execute_result"
    }
   ],
   "source": [
    "# Texts produced in each class type\n",
    "\n",
    "pelic_df.drop_duplicates('course_id').class_id.value_counts()"
   ]
  },
  {
   "cell_type": "code",
   "execution_count": 13,
   "metadata": {},
   "outputs": [
    {
     "data": {
      "text/plain": [
       "r    17347\n",
       "w    14873\n",
       "g    12906\n",
       "l     1067\n",
       "s       37\n",
       "Name: class_id, dtype: int64"
      ]
     },
     "execution_count": 13,
     "metadata": {},
     "output_type": "execute_result"
    }
   ],
   "source": [
    "# Texts produced in each class type\n",
    "\n",
    "pelic_df.class_id.value_counts()"
   ]
  },
  {
   "cell_type": "markdown",
   "metadata": {},
   "source": [
    "From the above 'classes' statistics, we see that there is a relatively even balance between texts produced in 'Reading', 'Writing', and 'Grammar' classes."
   ]
  },
  {
   "cell_type": "code",
   "execution_count": 14,
   "metadata": {},
   "outputs": [],
   "source": [
    "# Adding a 'semester' column to pelic_df based on the information in course.csv and mapped using the course_id\n",
    "\n",
    "course_df = pd.read_csv(\"../corpus_files/course.csv\", index_col='course_id')\n",
    "course_semester_dict = pd.Series(course_df.semester.values,course_df.index).to_dict()\n",
    "course_semester_dict = {str(key): value for key, value in course_semester_dict.items()}\n",
    "pelic_df['semester'] = pelic_df['course_id'].map(course_semester_dict)"
   ]
  },
  {
   "cell_type": "code",
   "execution_count": 15,
   "metadata": {},
   "outputs": [
    {
     "name": "stdout",
     "output_type": "stream",
     "text": [
      "1    555\n",
      "2    407\n",
      "3    168\n",
      "4     38\n",
      "5      8\n",
      "6      1\n",
      "Name: anon_id, dtype: int64\n"
     ]
    }
   ],
   "source": [
    "# Number of semesters attended\n",
    "\n",
    "semesters = pelic_df.drop_duplicates(subset=['anon_id','semester'])\n",
    "semesters = semesters[['anon_id','semester']]\n",
    "print(semesters.anon_id.value_counts().value_counts())"
   ]
  },
  {
   "cell_type": "code",
   "execution_count": 16,
   "metadata": {},
   "outputs": [
    {
     "name": "stdout",
     "output_type": "stream",
     "text": [
      "Number of unique student/semester combos 2071\n",
      "Average number of semesters per student 1.76\n"
     ]
    }
   ],
   "source": [
    "print('Number of unique student/semester combos',len(pelic_df.drop_duplicates(subset=['anon_id', 'semester'])))\n",
    "print('Average number of semesters per student',round(len(pelic_df.drop_duplicates(subset=['anon_id', 'semester']))/len(set(pelic_df.anon_id)),2))"
   ]
  },
  {
   "cell_type": "markdown",
   "metadata": {},
   "source": [
    "## Texts\n",
    "- Total number of texts\n",
    "- Total number of tokens\n",
    "- Total number of word types\n",
    "- Total number of lemma types\n",
    "- Tokens by class type\n",
    "- Tokens by level\n",
    "- Different version of texts\n",
    "- Number of texts per L1 and level\n",
    "- Mean, Std, and SE text length by level"
   ]
  },
  {
   "cell_type": "code",
   "execution_count": 17,
   "metadata": {},
   "outputs": [
    {
     "name": "stdout",
     "output_type": "stream",
     "text": [
      "Number of texts: 46230\n",
      "Number of tokens: 4250703\n",
      "Number of word types: 84429\n",
      "Number of lemma types: 73286\n"
     ]
    }
   ],
   "source": [
    "# Overall totals of text, tokens, word types, lemma types\n",
    "\n",
    "print('Number of texts:',len(pelic_df))\n",
    "print('Number of tokens:',sum(pelic_df.text_len))\n",
    "\n",
    "pelic_df['tok_POS'] = pelic_df.tok_lem_POS.apply(lambda row: [(x[0],x[2]) for x in row])\n",
    "print('Number of word types:',len(set([x for y in pelic_df.tok_POS.to_list() for x in y])))\n",
    "\n",
    "pelic_df['lem_POS'] = pelic_df.tok_lem_POS.apply(lambda row: [(x[1],x[2]) for x in row])\n",
    "print('Number of lemma types:',len(set([x for y in pelic_df.lem_POS.to_list() for x in y])))"
   ]
  },
  {
   "cell_type": "markdown",
   "metadata": {},
   "source": [
    "**Note:** The above word and lemma type counts take into account part-of-speech so that, e.g., _bow_ (v) and _bow_ (n) are considered unique types. To recalculate without consideration of part of speech, delete the _x[2]_ from the code."
   ]
  },
  {
   "cell_type": "code",
   "execution_count": 18,
   "metadata": {},
   "outputs": [
    {
     "data": {
      "text/html": [
       "<div>\n",
       "<style scoped>\n",
       "    .dataframe tbody tr th:only-of-type {\n",
       "        vertical-align: middle;\n",
       "    }\n",
       "\n",
       "    .dataframe tbody tr th {\n",
       "        vertical-align: top;\n",
       "    }\n",
       "\n",
       "    .dataframe thead th {\n",
       "        text-align: right;\n",
       "    }\n",
       "</style>\n",
       "<table border=\"1\" class=\"dataframe\">\n",
       "  <thead>\n",
       "    <tr style=\"text-align: right;\">\n",
       "      <th></th>\n",
       "      <th>text_len</th>\n",
       "    </tr>\n",
       "    <tr>\n",
       "      <th>class_id</th>\n",
       "      <th></th>\n",
       "    </tr>\n",
       "  </thead>\n",
       "  <tbody>\n",
       "    <tr>\n",
       "      <th>g</th>\n",
       "      <td>928635</td>\n",
       "    </tr>\n",
       "    <tr>\n",
       "      <th>l</th>\n",
       "      <td>65127</td>\n",
       "    </tr>\n",
       "    <tr>\n",
       "      <th>r</th>\n",
       "      <td>598342</td>\n",
       "    </tr>\n",
       "    <tr>\n",
       "      <th>s</th>\n",
       "      <td>3700</td>\n",
       "    </tr>\n",
       "    <tr>\n",
       "      <th>w</th>\n",
       "      <td>2654899</td>\n",
       "    </tr>\n",
       "  </tbody>\n",
       "</table>\n",
       "</div>"
      ],
      "text/plain": [
       "          text_len\n",
       "class_id          \n",
       "g           928635\n",
       "l            65127\n",
       "r           598342\n",
       "s             3700\n",
       "w          2654899"
      ]
     },
     "execution_count": 18,
     "metadata": {},
     "output_type": "execute_result"
    }
   ],
   "source": [
    "# Tokens by class type\n",
    "\n",
    "pelic_df.groupby('class_id').sum()"
   ]
  },
  {
   "cell_type": "code",
   "execution_count": 19,
   "metadata": {},
   "outputs": [
    {
     "data": {
      "text/html": [
       "<div>\n",
       "<style scoped>\n",
       "    .dataframe tbody tr th:only-of-type {\n",
       "        vertical-align: middle;\n",
       "    }\n",
       "\n",
       "    .dataframe tbody tr th {\n",
       "        vertical-align: top;\n",
       "    }\n",
       "\n",
       "    .dataframe thead th {\n",
       "        text-align: right;\n",
       "    }\n",
       "</style>\n",
       "<table border=\"1\" class=\"dataframe\">\n",
       "  <thead>\n",
       "    <tr style=\"text-align: right;\">\n",
       "      <th></th>\n",
       "      <th>text_len</th>\n",
       "    </tr>\n",
       "    <tr>\n",
       "      <th>level_id</th>\n",
       "      <th></th>\n",
       "    </tr>\n",
       "  </thead>\n",
       "  <tbody>\n",
       "    <tr>\n",
       "      <th>2</th>\n",
       "      <td>29745</td>\n",
       "    </tr>\n",
       "    <tr>\n",
       "      <th>3</th>\n",
       "      <td>637359</td>\n",
       "    </tr>\n",
       "    <tr>\n",
       "      <th>4</th>\n",
       "      <td>1952868</td>\n",
       "    </tr>\n",
       "    <tr>\n",
       "      <th>5</th>\n",
       "      <td>1630731</td>\n",
       "    </tr>\n",
       "  </tbody>\n",
       "</table>\n",
       "</div>"
      ],
      "text/plain": [
       "          text_len\n",
       "level_id          \n",
       "2            29745\n",
       "3           637359\n",
       "4          1952868\n",
       "5          1630731"
      ]
     },
     "execution_count": 19,
     "metadata": {},
     "output_type": "execute_result"
    }
   ],
   "source": [
    "# Tokens by level\n",
    "\n",
    "pelic_df.groupby('level_id').sum()"
   ]
  },
  {
   "cell_type": "code",
   "execution_count": 20,
   "metadata": {},
   "outputs": [
    {
     "name": "stdout",
     "output_type": "stream",
     "text": [
      "1     41589\n",
      "2      4032\n",
      "3       583\n",
      "4         3\n",
      "7         2\n",
      "8         2\n",
      "5         2\n",
      "9         2\n",
      "6         2\n",
      "10        2\n",
      "21        1\n",
      "12        1\n",
      "15        1\n",
      "17        1\n",
      "14        1\n",
      "13        1\n",
      "20        1\n",
      "18        1\n",
      "19        1\n",
      "11        1\n",
      "16        1\n",
      "Name: version, dtype: int64\n"
     ]
    }
   ],
   "source": [
    "# Number of versions\n",
    "\n",
    "print(pelic_df.version.value_counts())"
   ]
  },
  {
   "cell_type": "markdown",
   "metadata": {},
   "source": [
    "The above table shows that the vast majority (99.9%) of texts had a maximum of three versions, with most texts having one version (90%)."
   ]
  },
  {
   "cell_type": "code",
   "execution_count": 21,
   "metadata": {},
   "outputs": [
    {
     "data": {
      "text/plain": [
       "L1        level_id\n",
       "Arabic    2            818\n",
       "          3           5611\n",
       "          4           5874\n",
       "          5           4528\n",
       "Chinese   2            146\n",
       "          3           1901\n",
       "          4           2939\n",
       "          5           3517\n",
       "Japanese  3            389\n",
       "          4           1217\n",
       "          5           1176\n",
       "Korean    2            369\n",
       "          3           1550\n",
       "          4           3193\n",
       "          5           4114\n",
       "Spanish   2             89\n",
       "          3            404\n",
       "          4            730\n",
       "          5            686\n",
       "Thai      3            174\n",
       "          4            660\n",
       "          5            549\n",
       "Turkish   3            534\n",
       "          4            777\n",
       "          5            227\n",
       "dtype: int64"
      ]
     },
     "execution_count": 21,
     "metadata": {},
     "output_type": "execute_result"
    }
   ],
   "source": [
    "# Number of texts per L1 and level\n",
    "\n",
    "pelic_df[filters].groupby(['L1', 'level_id']).size()"
   ]
  },
  {
   "cell_type": "code",
   "execution_count": 22,
   "metadata": {
    "scrolled": false
   },
   "outputs": [
    {
     "name": "stdout",
     "output_type": "stream",
     "text": [
      "Average text length by level:\n",
      "\n",
      "level_id\n",
      "2     18.31\n",
      "3     53.84\n",
      "4    115.63\n",
      "5    100.17\n",
      "Name: text_len, dtype: float64\n",
      "\n",
      "\n",
      "Standard deviation text length by level:\n",
      "\n",
      "level_id\n",
      "2     27.59\n",
      "3     72.68\n",
      "4    150.12\n",
      "5    196.11\n",
      "Name: text_len, dtype: float64\n",
      "\n",
      "\n",
      "Standard Error text length by level:\n",
      "\n",
      "level_id\n",
      "2    0.73\n",
      "3    0.71\n",
      "4    1.21\n",
      "5    1.61\n",
      "Name: text_len, dtype: float64\n"
     ]
    }
   ],
   "source": [
    "# Three aggregation functions: mean, standard deviation, and standard error\n",
    "\n",
    "print('Average text length by level:\\n',pelic_df[filters].groupby('level_id')['text_len'].mean().round(2),sep='\\n')\n",
    "print('\\n\\nStandard deviation text length by level:\\n',pelic_df[filters].groupby('level_id')['text_len'].std().round(2),sep='\\n')\n",
    "print('\\n\\nStandard Error text length by level:\\n',pelic_df[filters].groupby('level_id')['text_len'].sem().round(2),sep='\\n')"
   ]
  },
  {
   "cell_type": "code",
   "execution_count": 23,
   "metadata": {},
   "outputs": [
    {
     "data": {
      "image/png": "[encoded data removed]",
      "text/plain": [
       "<Figure size 864x432 with 1 Axes>"
      ]
     },
     "metadata": {
      "needs_background": "light"
     },
     "output_type": "display_data"
    }
   ],
   "source": [
    "pelic_df[filters].groupby(['L1', 'level_id'])['anon_id'].nunique().unstack().plot.bar(figsize=(12,6))\n",
    "plt.ylabel('Number of Students', fontsize=18)\n",
    "plt.title('Number of Students Submitting Data by L1 and Level', fontsize=18)\n",
    "plt.xlabel('First Language', fontsize=18)\n",
    "plt.xticks(rotation=360)\n",
    "plt.legend(prop={'size': 16}, labels=['Level 2', 'Level 3', 'Level 4', 'Level 5'])\n",
    "plt.show()"
   ]
  },
  {
   "cell_type": "code",
   "execution_count": 24,
   "metadata": {},
   "outputs": [
    {
     "data": {
      "image/png": "[encoded data removed]",
      "text/plain": [
       "<Figure size 864x432 with 1 Axes>"
      ]
     },
     "metadata": {
      "needs_background": "light"
     },
     "output_type": "display_data"
    }
   ],
   "source": [
    "pelic_df[filters].groupby(['L1', 'level_id'])['text'].nunique().unstack().plot.bar(figsize=(12,6))\n",
    "plt.ylabel('Number of Texts', fontsize=20)\n",
    "plt.title('Number of Texts', fontsize=24)\n",
    "plt.xlabel('First Language', fontsize=20)\n",
    "plt.xticks(rotation=360)\n",
    "plt.legend(prop={'size': 18}, labels=['Level 2', 'Level 3', 'Level 4', 'Level 5'])\n",
    "plt.show()"
   ]
  },
  {
   "cell_type": "markdown",
   "metadata": {},
   "source": [
    "## Summary\n",
    "\n",
    "Overall from this EDA, we see that the data from PELIC has these broad characteristics:\n",
    "\n",
    "- Approximately 1200 students, of which the majority (85%) are in levels 3 and 4\n",
    "- Students have a wide range of 30 different L1s, with the most common being Arabic, Chinese, Korean, Japanese, Spanish, Turkish, and Thai.\n",
    "- A balanced split of students who identified as male (53%) and female (43%)\n",
    "- Nearly all texts and tokens come from Reading, Writing, and Grammar classes\n",
    "- On average students attended 1.8 semesters\n",
    "- There are approximately 4.2m tokens, 46k texts, 84k word types, and 73k lemma types\n",
    "- Approximately 10% of texts have more than one version in the corpus\n",
    "- Texts vary considerably in length, increase in average length by level\n",
    "\n",
    "As a whole, we can therefore consider PELIC to be multilingual, longitudinal corpus with a wealth of raw text data, processed text data, and meta-data, affording opportunities for a wide range of research opportunities."
   ]
  },
  {
   "cell_type": "markdown",
   "metadata": {},
   "source": [
    "[Back to top](#Exploratory-Data-Analysis-(EDA))"
   ]
  }
 ],
 "metadata": {
  "kernelspec": {
   "display_name": "Python 3",
   "language": "python",
   "name": "python3"
  },
  "language_info": {
   "codemirror_mode": {
    "name": "ipython",
    "version": 3
   },
   "file_extension": ".py",
   "mimetype": "text/x-python",
   "name": "python",
   "nbconvert_exporter": "python",
   "pygments_lexer": "ipython3",
   "version": "3.7.6"
  }
 },
 "nbformat": 4,
 "nbformat_minor": 2
}
